{
 "cells": [
  {
   "cell_type": "markdown",
   "metadata": {},
   "source": [
    "# Data Science Discovery (STAT 107) General Notes\n",
    "## Data Science General Definition\n",
    "**Computation**: Using computer based tools to explore data\n",
    "**Inference**: Use statistical methods (like linear regression) to understand trends/relations in data\n",
    "**Business Intelligence**: Gaining knowledge and making conclusions from exploration of data\n",
    "**Data Science**: Intersection between these three fields all together\n",
    "    * My definition: Using computer based tools and combining them with statistical methods to understand trends and relations in complex data, recognize complex patterns through the enhancement of computing, and therefore be able to gain knowledge and make sophisticated conclusions from this analysis\n",
    "## Types of Data\n",
    "**Structured Data**: Data that is organized (representable in tabular data/spreadsheet) and labeled\n",
    "    * Bulk of data in this class will be structured\n",
    "**Unstructured Data**: Anything that doesn't meet requirements for structured data\n",
    "    * Image: An image file is organized and encoded into a format but isn't labeled with different areas of it\n",
    "    * Text, Newspapers, etc. none of these are both labeled and organized\n",
    "## Dataframes\n",
    "* They have rows and columns with the columns having headers/names\n",
    "* **Variable**: A column in the dataframe\n",
    "* **Observation**: Each row in the dataframe\n",
    "## Structured Data Interactions\n",
    "* Stored in CSVs in files for computing contexts often (frameworks can load csvs)\n",
    "* Loaded into Pandas dataframes\n",
    "## Experimental Design, Blocking Review\n",
    "* \n"
   ]
  },
  {
   "cell_type": "code",
   "execution_count": 2,
   "metadata": {},
   "outputs": [
    {
     "name": "stdout",
     "output_type": "stream",
     "text": [
      "Hey\n"
     ]
    }
   ],
   "source": [
    "print(\"Hey\")"
   ]
  },
  {
   "cell_type": "code",
   "execution_count": null,
   "metadata": {},
   "outputs": [],
   "source": []
  }
 ],
 "metadata": {
  "kernelspec": {
   "display_name": "stat107",
   "language": "python",
   "name": "python3"
  },
  "language_info": {
   "codemirror_mode": {
    "name": "ipython",
    "version": 3
   },
   "file_extension": ".py",
   "mimetype": "text/x-python",
   "name": "python",
   "nbconvert_exporter": "python",
   "pygments_lexer": "ipython3",
   "version": "3.12.4"
  }
 },
 "nbformat": 4,
 "nbformat_minor": 2
}
